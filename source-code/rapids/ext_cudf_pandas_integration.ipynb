{
 "cells": [
  {
   "cell_type": "markdown",
   "id": "96ac4ae3-0e4a-49a4-bca9-ff2663326db1",
   "metadata": {},
   "source": [
    "Recognizing that it is not trivial to implement all pandas feature in cuDF, NVIDIA decided to add a compatibility layer that will execute pandas operations on GPU if possible, and fall back on the CPU (pandas) implementation when not.\n",
    "\n",
    "To this end it suffices to load the `cudf.pandas` extension."
   ]
  },
  {
   "cell_type": "code",
   "execution_count": 1,
   "id": "7f773f6a-c859-4f34-a626-29b4774d1372",
   "metadata": {},
   "outputs": [],
   "source": [
    "%load_ext cudf.pandas\n",
    "import pandas as pd\n",
    "import numpy as np"
   ]
  },
  {
   "cell_type": "markdown",
   "id": "8d3ee884-154d-4110-a3bb-2084bad6beca",
   "metadata": {},
   "source": [
    "## Creating dataframes"
   ]
  },
  {
   "cell_type": "markdown",
   "id": "1779a4a8-8a29-4c89-999e-d1d30b0a0cb3",
   "metadata": {},
   "source": [
    "We create a dataframe to do some testing."
   ]
  },
  {
   "cell_type": "code",
   "execution_count": 2,
   "id": "b88a30fc-edfc-4941-9758-86dfc17e5b64",
   "metadata": {},
   "outputs": [],
   "source": [
    "nr_rows = 20_000_000\n",
    "data = {\n",
    "    'A': np.random.uniform(0.0, 1.0, size=nr_rows),\n",
    "    'B': np.random.uniform(0.0, 1.0, size=nr_rows),\n",
    "    'C': np.random.uniform(0.0, 1.0, size=nr_rows),\n",
    "}"
   ]
  },
  {
   "cell_type": "code",
   "execution_count": 3,
   "id": "90f2a0da-3b64-4def-88fd-d87fada73873",
   "metadata": {},
   "outputs": [],
   "source": [
    "df = pd.DataFrame(data)"
   ]
  },
  {
   "cell_type": "code",
   "execution_count": 4,
   "id": "4622bab9-bd10-4006-90ee-67c1cb16949b",
   "metadata": {},
   "outputs": [
    {
     "name": "stdout",
     "output_type": "stream",
     "text": [
      "<class 'cudf.core.dataframe.DataFrame'>\n",
      "RangeIndex: 20000000 entries, 0 to 19999999\n",
      "Data columns (total 3 columns):\n",
      " #   Column  Dtype\n",
      "---  ------  -----\n",
      " 0   A       float64\n",
      " 1   B       float64\n",
      " 2   C       float64\n",
      "dtypes: float64(3)\n",
      "memory usage: 457.8 MB\n"
     ]
    }
   ],
   "source": [
    "df.info()"
   ]
  },
  {
   "cell_type": "markdown",
   "id": "b10d8c3d-4b52-4873-b7c8-56cbfeea3260",
   "metadata": {},
   "source": [
    "## Applying functions"
   ]
  },
  {
   "cell_type": "markdown",
   "id": "af5049ed-1f59-4bea-8fb4-b1d7fe730739",
   "metadata": {},
   "source": [
    "Computing the columnwise average shows that the performance is on par with cuDF, so clearly, this is executed on the GPU."
   ]
  },
  {
   "cell_type": "code",
   "execution_count": 5,
   "id": "427d3b51-ff5b-4bf8-b815-8237fa750604",
   "metadata": {},
   "outputs": [
    {
     "name": "stdout",
     "output_type": "stream",
     "text": [
      "1.02 ms ± 47.5 μs per loop (mean ± std. dev. of 7 runs, 1,000 loops each)\n"
     ]
    }
   ],
   "source": [
    "%timeit df.A.mean()"
   ]
  },
  {
   "cell_type": "markdown",
   "id": "0e41a793-b28e-40cf-b5e7-cbf48bf3e580",
   "metadata": {},
   "source": [
    "The rowwise mean is of course slower, but again, it is executed on the GPU as well."
   ]
  },
  {
   "cell_type": "code",
   "execution_count": 6,
   "id": "97095512-9a9a-415c-b191-e94eabb8d1e3",
   "metadata": {},
   "outputs": [
    {
     "name": "stdout",
     "output_type": "stream",
     "text": [
      "42.7 ms ± 2.48 ms per loop (mean ± std. dev. of 7 runs, 10 loops each)\n"
     ]
    }
   ],
   "source": [
    "%timeit df.mean(axis=1)"
   ]
  },
  {
   "cell_type": "markdown",
   "id": "e18c8bf2-99ff-4c1c-97e7-1110a8ade7a2",
   "metadata": {},
   "source": [
    "## Creating new columns"
   ]
  },
  {
   "cell_type": "markdown",
   "id": "604dc3f1-6df5-4691-86d7-74a649f88a6c",
   "metadata": {},
   "source": [
    "Adding a column based on a per-column cmoputation."
   ]
  },
  {
   "cell_type": "code",
   "execution_count": 7,
   "id": "caf8e712-1565-4033-8bc4-37940556bebb",
   "metadata": {},
   "outputs": [
    {
     "name": "stdout",
     "output_type": "stream",
     "text": [
      "4.92 ms ± 224 μs per loop (mean ± std. dev. of 7 runs, 100 loops each)\n"
     ]
    }
   ],
   "source": [
    "%timeit df['D'] = 2.1*df.A + 3.5*df.B"
   ]
  },
  {
   "cell_type": "markdown",
   "id": "f561ade4-db67-4356-a5de-7ef81ea10504",
   "metadata": {},
   "source": [
    "## Categorical data"
   ]
  },
  {
   "cell_type": "markdown",
   "id": "c9576617-ffa2-4432-b6bc-991ba3227f34",
   "metadata": {},
   "source": [
    "A column of categorical data can be created using the `cut` function."
   ]
  },
  {
   "cell_type": "code",
   "execution_count": 8,
   "id": "9429ddf8-3434-4cd0-a3d8-711c2de60445",
   "metadata": {},
   "outputs": [
    {
     "name": "stdout",
     "output_type": "stream",
     "text": [
      "3.22 ms ± 681 μs per loop (mean ± std. dev. of 7 runs, 100 loops each)\n"
     ]
    }
   ],
   "source": [
    "%timeit pd.cut(df.A, [0.0, 0.2, 0.4, 0.6, 0.8, 1.0], \\\n",
    "               labels=['c1', 'c2', 'c3', 'c4', 'c5'])"
   ]
  },
  {
   "cell_type": "code",
   "execution_count": 9,
   "id": "77bdf0d0-6610-475a-ba7d-2b53d83c6946",
   "metadata": {},
   "outputs": [],
   "source": [
    "df['label'] = pd.cut(df.A, [0.0, 0.2, 0.4, 0.6, 0.8, 1.0],\n",
    "                     labels=['c1', 'c2', 'c3', 'c4', 'c5'])"
   ]
  },
  {
   "cell_type": "markdown",
   "id": "6e80a4f6-ff49-4a51-879c-ce8315a70e08",
   "metadata": {},
   "source": [
    "## Group-by"
   ]
  },
  {
   "cell_type": "markdown",
   "id": "cd3726f6-984d-4baf-b23d-3e8ef0bab8b1",
   "metadata": {},
   "source": [
    "We can apply the `groupby` to the column of labels."
   ]
  },
  {
   "cell_type": "code",
   "execution_count": 10,
   "id": "96e1c795-d97f-4403-a546-5d3f34f3165a",
   "metadata": {},
   "outputs": [
    {
     "name": "stdout",
     "output_type": "stream",
     "text": [
      "17.9 ms ± 575 μs per loop (mean ± std. dev. of 7 runs, 100 loops each)\n"
     ]
    }
   ],
   "source": [
    "%timeit df[['label', 'A']].groupby('label').mean()"
   ]
  },
  {
   "cell_type": "markdown",
   "id": "303ae561-dbcb-467f-a648-d4b7abfb31cf",
   "metadata": {},
   "source": [
    "`%timeit` and `pivot_table` don't seem to get along, so you should use `%time` instead."
   ]
  },
  {
   "cell_type": "code",
   "execution_count": 11,
   "id": "91dd8468-4bee-4f98-bea8-9a425c5749a9",
   "metadata": {
    "scrolled": true
   },
   "outputs": [
    {
     "name": "stdout",
     "output_type": "stream",
     "text": [
      "CPU times: user 696 ms, sys: 1.28 s, total: 1.98 s\n",
      "Wall time: 1.98 s\n"
     ]
    },
    {
     "data": {
      "text/html": [
       "<div>\n",
       "<style scoped>\n",
       "    .dataframe tbody tr th:only-of-type {\n",
       "        vertical-align: middle;\n",
       "    }\n",
       "\n",
       "    .dataframe tbody tr th {\n",
       "        vertical-align: top;\n",
       "    }\n",
       "\n",
       "    .dataframe thead th {\n",
       "        text-align: right;\n",
       "    }\n",
       "</style>\n",
       "<table border=\"1\" class=\"dataframe\">\n",
       "  <thead>\n",
       "    <tr style=\"text-align: right;\">\n",
       "      <th></th>\n",
       "      <th>A</th>\n",
       "      <th>B</th>\n",
       "      <th>C</th>\n",
       "    </tr>\n",
       "    <tr>\n",
       "      <th>label</th>\n",
       "      <th></th>\n",
       "      <th></th>\n",
       "      <th></th>\n",
       "    </tr>\n",
       "  </thead>\n",
       "  <tbody>\n",
       "    <tr>\n",
       "      <th>c1</th>\n",
       "      <td>0.100061</td>\n",
       "      <td>0.500052</td>\n",
       "      <td>0.499819</td>\n",
       "    </tr>\n",
       "    <tr>\n",
       "      <th>c2</th>\n",
       "      <td>0.299978</td>\n",
       "      <td>0.500099</td>\n",
       "      <td>0.499959</td>\n",
       "    </tr>\n",
       "    <tr>\n",
       "      <th>c3</th>\n",
       "      <td>0.499983</td>\n",
       "      <td>0.499851</td>\n",
       "      <td>0.500068</td>\n",
       "    </tr>\n",
       "    <tr>\n",
       "      <th>c4</th>\n",
       "      <td>0.699979</td>\n",
       "      <td>0.500268</td>\n",
       "      <td>0.499775</td>\n",
       "    </tr>\n",
       "    <tr>\n",
       "      <th>c5</th>\n",
       "      <td>0.900013</td>\n",
       "      <td>0.500117</td>\n",
       "      <td>0.499966</td>\n",
       "    </tr>\n",
       "  </tbody>\n",
       "</table>\n",
       "</div>"
      ],
      "text/plain": [
       "              A         B         C\n",
       "label                              \n",
       "c1     0.100061  0.500052  0.499819\n",
       "c2     0.299978  0.500099  0.499959\n",
       "c3     0.499983  0.499851  0.500068\n",
       "c4     0.699979  0.500268  0.499775\n",
       "c5     0.900013  0.500117  0.499966"
      ]
     },
     "execution_count": 11,
     "metadata": {},
     "output_type": "execute_result"
    }
   ],
   "source": [
    "%time pd.pivot_table(df, index='label', \\\n",
    "                     values=['A', 'B', 'C'], \\\n",
    "                     aggfunc='mean', \\\n",
    "                     observed=False)"
   ]
  }
 ],
 "metadata": {
  "kernelspec": {
   "display_name": "Python 3 (ipykernel)",
   "language": "python",
   "name": "python3"
  },
  "language_info": {
   "codemirror_mode": {
    "name": "ipython",
    "version": 3
   },
   "file_extension": ".py",
   "mimetype": "text/x-python",
   "name": "python",
   "nbconvert_exporter": "python",
   "pygments_lexer": "ipython3",
   "version": "3.12.8"
  }
 },
 "nbformat": 4,
 "nbformat_minor": 5
}
