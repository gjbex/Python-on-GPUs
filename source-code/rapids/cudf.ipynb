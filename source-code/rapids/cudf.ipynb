{
 "cells": [
  {
   "cell_type": "markdown",
   "id": "10d2e944-a0a0-410b-a065-60750acb2a96",
   "metadata": {},
   "source": [
    "NVIDIA Rapids is a software package to enable data science computations on GPUs.  It offers dataframes that are mostly compatible with pandas but that can outperform the latter by a substantial factor for some operations.  Rapids dataframes are defined in the `cudf` module."
   ]
  },
  {
   "cell_type": "markdown",
   "id": "e71c1e54-8bd6-4fb1-820d-27b6aea418a6",
   "metadata": {},
   "source": [
    "## Requiremnts"
   ]
  },
  {
   "cell_type": "markdown",
   "id": "0c359662-791c-41db-9bcb-9ca08d166a92",
   "metadata": {},
   "source": [
    "To clearly make the distinction between pandas and Rapids dataframes, we import the modules without aliasing in this notebook."
   ]
  },
  {
   "cell_type": "code",
   "execution_count": 2,
   "id": "0578a41f",
   "metadata": {},
   "outputs": [],
   "source": [
    "import pandas\n",
    "import cudf\n",
    "import numpy as np"
   ]
  },
  {
   "cell_type": "markdown",
   "id": "cf66ff7f-ffac-4d07-9d6d-5eee2c3b0270",
   "metadata": {},
   "source": [
    "## Creating dataframes"
   ]
  },
  {
   "cell_type": "markdown",
   "id": "50c1b912-028c-4370-b62c-0c1ed24660a4",
   "metadata": {},
   "source": [
    "In order to do some performance tests, we create some dataframes with a substantial amount of data.  The pandas dataframe will be assigned to the variable `df`, the Rapids dataframe in `cf`."
   ]
  },
  {
   "cell_type": "code",
   "execution_count": 3,
   "id": "5b68c0f2-b8ce-4522-ae2f-f74c90f34043",
   "metadata": {},
   "outputs": [],
   "source": [
    "nr_rows = 20_000_000\n",
    "data = {\n",
    "    'A': np.random.uniform(0.0, 1.0, size=nr_rows),\n",
    "    'B': np.random.uniform(0.0, 1.0, size=nr_rows),\n",
    "    'C': np.random.uniform(0.0, 1.0, size=nr_rows),\n",
    "}"
   ]
  },
  {
   "cell_type": "code",
   "execution_count": 4,
   "id": "3b87e5e7",
   "metadata": {},
   "outputs": [],
   "source": [
    "df = pandas.DataFrame(data)"
   ]
  },
  {
   "cell_type": "markdown",
   "id": "108aeeb5-40fd-43cf-8c7e-62c82007ec2e",
   "metadata": {},
   "source": [
    "The Rapids dataframe is created in exactly the same way."
   ]
  },
  {
   "cell_type": "code",
   "execution_count": 5,
   "id": "bfebd01c",
   "metadata": {},
   "outputs": [],
   "source": [
    "cf = cudf.DataFrame(data)"
   ]
  },
  {
   "cell_type": "markdown",
   "id": "39a554e0-74ca-4604-ac12-65b9e966ee53",
   "metadata": {},
   "source": [
    "It is interesting to check the datatypes used in the pandas and the Rapids dataframe, they are identical."
   ]
  },
  {
   "cell_type": "code",
   "execution_count": 15,
   "id": "5d5d23b7-65c0-459a-85b8-9faba771797d",
   "metadata": {},
   "outputs": [
    {
     "name": "stdout",
     "output_type": "stream",
     "text": [
      "<class 'pandas.core.frame.DataFrame'>\n",
      "RangeIndex: 20000000 entries, 0 to 19999999\n",
      "Data columns (total 4 columns):\n",
      " #   Column  Dtype  \n",
      "---  ------  -----  \n",
      " 0   A       float64\n",
      " 1   B       float64\n",
      " 2   C       float64\n",
      " 3   D       float64\n",
      "dtypes: float64(4)\n",
      "memory usage: 610.4 MB\n"
     ]
    }
   ],
   "source": [
    "df.info()"
   ]
  },
  {
   "cell_type": "code",
   "execution_count": 16,
   "id": "cc8ae333-aaa2-40bf-90a5-db0197bd36da",
   "metadata": {},
   "outputs": [
    {
     "name": "stdout",
     "output_type": "stream",
     "text": [
      "<class 'cudf.core.dataframe.DataFrame'>\n",
      "RangeIndex: 20000000 entries, 0 to 19999999\n",
      "Data columns (total 4 columns):\n",
      " #   Column  Dtype\n",
      "---  ------  -----\n",
      " 0   A       float64\n",
      " 1   B       float64\n",
      " 2   C       float64\n",
      " 3   D       float64\n",
      "dtypes: float64(4)\n",
      "memory usage: 610.4 MB\n"
     ]
    }
   ],
   "source": [
    "cf.info()"
   ]
  },
  {
   "cell_type": "markdown",
   "id": "9e36a39b-746e-453e-8745-f184ba4d8884",
   "metadata": {},
   "source": [
    "## Applying functions"
   ]
  },
  {
   "cell_type": "markdown",
   "id": "e1624e43-7417-4d8b-bfa2-fa4112dc52b2",
   "metadata": {},
   "source": [
    "We can time the difference between the pandas and cudf when computing the columnwise average."
   ]
  },
  {
   "cell_type": "code",
   "execution_count": 6,
   "id": "824a1bd7",
   "metadata": {},
   "outputs": [
    {
     "name": "stdout",
     "output_type": "stream",
     "text": [
      "31 ms ± 1.24 ms per loop (mean ± std. dev. of 7 runs, 10 loops each)\n"
     ]
    }
   ],
   "source": [
    "%timeit df.A.mean()"
   ]
  },
  {
   "cell_type": "code",
   "execution_count": 7,
   "id": "72799009",
   "metadata": {
    "scrolled": true
   },
   "outputs": [
    {
     "name": "stdout",
     "output_type": "stream",
     "text": [
      "2.15 ms ± 287 µs per loop (mean ± std. dev. of 7 runs, 100 loops each)\n"
     ]
    }
   ],
   "source": [
    "%timeit cf.A.mean()"
   ]
  },
  {
   "cell_type": "markdown",
   "id": "cf9e2a69-805e-42fc-be95-57aa1d5e9819",
   "metadata": {},
   "source": [
    "Likely you will see a warning that the slowest run took substantially longer than other runs.  This is due to data movement from the host memory to the GPU device memory.  This will of course also happen in practice and illustrates the importance of ensuring that the data required for the computations resides on the GPU.  However, it is clear that on average the computation on a Rapids dataframe is a factor of 5 faster."
   ]
  },
  {
   "cell_type": "markdown",
   "id": "d7ee6142-348b-46c3-9aeb-0f2cdd8554fa",
   "metadata": {},
   "source": [
    "Computing the rowwise average is substantially slower due to the data structure used to represent the dataframe."
   ]
  },
  {
   "cell_type": "code",
   "execution_count": 8,
   "id": "5750eacf-65ff-421e-8411-28632e16b45e",
   "metadata": {},
   "outputs": [
    {
     "name": "stdout",
     "output_type": "stream",
     "text": [
      "356 ms ± 35.1 ms per loop (mean ± std. dev. of 7 runs, 1 loop each)\n"
     ]
    }
   ],
   "source": [
    "%timeit df.mean(axis=1)"
   ]
  },
  {
   "cell_type": "code",
   "execution_count": 9,
   "id": "f20a7435-30f1-4275-bdaa-05a03147fa4f",
   "metadata": {},
   "outputs": [
    {
     "name": "stdout",
     "output_type": "stream",
     "text": [
      "The slowest run took 4.67 times longer than the fastest. This could mean that an intermediate result is being cached.\n",
      "60.8 ms ± 46.9 ms per loop (mean ± std. dev. of 7 runs, 1 loop each)\n"
     ]
    }
   ],
   "source": [
    "%timeit cf.mean(axis=1)"
   ]
  },
  {
   "cell_type": "markdown",
   "id": "8057e6ec-426c-433d-9fad-0c45c2e85dc3",
   "metadata": {},
   "source": [
    "Still, Rapids outperforms the pandas implementation.  However, in fairness, one should comparee to the latest version of pandas which has substantial performance improvements with respect to the 1.x releases."
   ]
  },
  {
   "cell_type": "code",
   "execution_count": 10,
   "id": "db3ee6a2-718f-465f-a286-43c604252089",
   "metadata": {},
   "outputs": [
    {
     "data": {
      "text/plain": [
       "'1.5.3'"
      ]
     },
     "execution_count": 10,
     "metadata": {},
     "output_type": "execute_result"
    }
   ],
   "source": [
    "pandas.__version__"
   ]
  },
  {
   "cell_type": "markdown",
   "id": "e2b51073-dbd0-4626-a9b3-b7045bc60191",
   "metadata": {},
   "source": [
    "## Creating new columns"
   ]
  },
  {
   "cell_type": "markdown",
   "id": "92e6487c-8829-49da-b2ca-1f61fc6d082d",
   "metadata": {},
   "source": [
    "We can create a new column in a dataframe using an arithmetic expression on other columns."
   ]
  },
  {
   "cell_type": "code",
   "execution_count": 13,
   "id": "4da9c37d",
   "metadata": {},
   "outputs": [
    {
     "name": "stdout",
     "output_type": "stream",
     "text": [
      "141 ms ± 8.45 ms per loop (mean ± std. dev. of 7 runs, 1 loop each)\n"
     ]
    }
   ],
   "source": [
    "%timeit df['D'] = 2.1*df.A + 3.5*df.B"
   ]
  },
  {
   "cell_type": "code",
   "execution_count": 14,
   "id": "47cfbe57-1651-4055-9fef-5b7fdf301fb3",
   "metadata": {},
   "outputs": [
    {
     "name": "stdout",
     "output_type": "stream",
     "text": [
      "30 ms ± 4.6 ms per loop (mean ± std. dev. of 7 runs, 10 loops each)\n"
     ]
    }
   ],
   "source": [
    "%timeit cf['D'] = 2.1*cf.A + 3.5*cf.B"
   ]
  },
  {
   "cell_type": "markdown",
   "id": "86178635-c2d7-4755-96fc-d20ddc72126f",
   "metadata": {},
   "source": [
    "Again, the Rapids dataframe outperformns the pandas version by a substantial factor."
   ]
  },
  {
   "cell_type": "markdown",
   "id": "90699f98-c1ec-4299-a3bb-87657a1a4245",
   "metadata": {},
   "source": [
    "## Categorical data"
   ]
  },
  {
   "cell_type": "markdown",
   "id": "0d8ec942-36db-45c1-a8ea-eb78c6bbab29",
   "metadata": {},
   "source": [
    "We can introduce a column that contains categorical data by using the `cut` function.  In this case, we bin column A, using 5 categories.  First we time the operation without storing the resulting values, then we store them in a new column, `'label'` for further testing."
   ]
  },
  {
   "cell_type": "code",
   "execution_count": 17,
   "id": "f1ceb5ff-74e7-4085-b97f-d5858c461122",
   "metadata": {},
   "outputs": [
    {
     "name": "stdout",
     "output_type": "stream",
     "text": [
      "455 ms ± 41.8 ms per loop (mean ± std. dev. of 7 runs, 1 loop each)\n"
     ]
    }
   ],
   "source": [
    "%timeit pandas.cut(df.A, [0.0, 0.2, 0.4, 0.6, 0.8, 1.0], ['c1', 'c2', 'c3', 'c4', 'c5'])"
   ]
  },
  {
   "cell_type": "code",
   "execution_count": 18,
   "id": "62950877-016e-40db-85bb-1e3d30833d64",
   "metadata": {},
   "outputs": [
    {
     "name": "stdout",
     "output_type": "stream",
     "text": [
      "44.5 ms ± 17.1 ms per loop (mean ± std. dev. of 7 runs, 1 loop each)\n"
     ]
    }
   ],
   "source": [
    "%timeit cudf.cut(cf.A, [0.0, 0.2, 0.4, 0.6, 0.8, 1.0], ['c1', 'c2', 'c3', 'c4', 'c5'])"
   ]
  },
  {
   "cell_type": "code",
   "execution_count": 35,
   "id": "13e88da7",
   "metadata": {},
   "outputs": [],
   "source": [
    "df['label'] = pandas.cut(df.A, [0.0, 0.2, 0.4, 0.6, 0.8, 1.0],\n",
    "                         labels=['c1', 'c2', 'c3', 'c4', 'c5'])"
   ]
  },
  {
   "cell_type": "code",
   "execution_count": 40,
   "id": "74c5228b-7334-41b3-b441-c73367a340b1",
   "metadata": {},
   "outputs": [],
   "source": [
    "cf['label'] = cudf.cut(cf.A, [0.0, 0.2, 0.4, 0.6, 0.8, 1.0],\n",
    "                       labels=['c1', 'c2', 'c3', 'c4', 'c5'])"
   ]
  },
  {
   "cell_type": "markdown",
   "id": "7937e8ba-556c-4d54-abc6-631e99f7ac86",
   "metadata": {},
   "source": [
    "## Group-by"
   ]
  },
  {
   "cell_type": "markdown",
   "id": "f08c71c7-447a-43cc-aec8-e5fb4dffbc52",
   "metadata": {},
   "source": [
    "Group-by operations are the bread and butter of data science, so we can check the performance using the column of categorical data we just added to the dataframes."
   ]
  },
  {
   "cell_type": "code",
   "execution_count": 41,
   "id": "f68e3dd2",
   "metadata": {},
   "outputs": [
    {
     "name": "stdout",
     "output_type": "stream",
     "text": [
      "126 ms ± 2.5 ms per loop (mean ± std. dev. of 7 runs, 10 loops each)\n"
     ]
    }
   ],
   "source": [
    "%timeit df[['label', 'A']].groupby('label').mean()"
   ]
  },
  {
   "cell_type": "code",
   "execution_count": 42,
   "id": "c36569a0",
   "metadata": {},
   "outputs": [
    {
     "name": "stdout",
     "output_type": "stream",
     "text": [
      "74.2 ms ± 43.9 ms per loop (mean ± std. dev. of 7 runs, 1 loop each)\n"
     ]
    }
   ],
   "source": [
    "%timeit cf[['label', 'A']].groupby('label').mean()"
   ]
  },
  {
   "cell_type": "markdown",
   "id": "44d34095-13f1-45bd-a638-20a749317dc1",
   "metadata": {},
   "source": [
    "## Pivots"
   ]
  },
  {
   "cell_type": "code",
   "execution_count": 54,
   "id": "21ae7d18-7854-4e3e-a7fd-68160f0e4463",
   "metadata": {},
   "outputs": [
    {
     "data": {
      "text/html": [
       "<div>\n",
       "<style scoped>\n",
       "    .dataframe tbody tr th:only-of-type {\n",
       "        vertical-align: middle;\n",
       "    }\n",
       "\n",
       "    .dataframe tbody tr th {\n",
       "        vertical-align: top;\n",
       "    }\n",
       "\n",
       "    .dataframe thead th {\n",
       "        text-align: right;\n",
       "    }\n",
       "</style>\n",
       "<table border=\"1\" class=\"dataframe\">\n",
       "  <thead>\n",
       "    <tr style=\"text-align: right;\">\n",
       "      <th></th>\n",
       "      <th>A</th>\n",
       "      <th>B</th>\n",
       "      <th>C</th>\n",
       "    </tr>\n",
       "    <tr>\n",
       "      <th>label</th>\n",
       "      <th></th>\n",
       "      <th></th>\n",
       "      <th></th>\n",
       "    </tr>\n",
       "  </thead>\n",
       "  <tbody>\n",
       "    <tr>\n",
       "      <th>c1</th>\n",
       "      <td>0.099957</td>\n",
       "      <td>0.499932</td>\n",
       "      <td>0.500068</td>\n",
       "    </tr>\n",
       "    <tr>\n",
       "      <th>c2</th>\n",
       "      <td>0.299946</td>\n",
       "      <td>0.500151</td>\n",
       "      <td>0.499933</td>\n",
       "    </tr>\n",
       "    <tr>\n",
       "      <th>c3</th>\n",
       "      <td>0.499957</td>\n",
       "      <td>0.500055</td>\n",
       "      <td>0.499867</td>\n",
       "    </tr>\n",
       "    <tr>\n",
       "      <th>c4</th>\n",
       "      <td>0.700043</td>\n",
       "      <td>0.499943</td>\n",
       "      <td>0.500076</td>\n",
       "    </tr>\n",
       "    <tr>\n",
       "      <th>c5</th>\n",
       "      <td>0.899999</td>\n",
       "      <td>0.499828</td>\n",
       "      <td>0.500103</td>\n",
       "    </tr>\n",
       "  </tbody>\n",
       "</table>\n",
       "</div>"
      ],
      "text/plain": [
       "              A         B         C\n",
       "label                              \n",
       "c1     0.099957  0.499932  0.500068\n",
       "c2     0.299946  0.500151  0.499933\n",
       "c3     0.499957  0.500055  0.499867\n",
       "c4     0.700043  0.499943  0.500076\n",
       "c5     0.899999  0.499828  0.500103"
      ]
     },
     "execution_count": 54,
     "metadata": {},
     "output_type": "execute_result"
    }
   ],
   "source": [
    "pandas.pivot_table(df, index='label', values=['A', 'B', 'C'], aggfunc=np.mean)"
   ]
  },
  {
   "cell_type": "markdown",
   "id": "b0c2cbbe-2ee5-46ff-91ee-024acf4a76d5",
   "metadata": {},
   "source": [
    "Unfortunately, for pivot tables, the `cudf` implementation is quite different from the pandas implementation.  However, the pivot operation on the pandas dataframe can be implemented using a simple `groupby`, folloed by applying `mean`."
   ]
  },
  {
   "cell_type": "code",
   "execution_count": 53,
   "id": "d0f31120-5a4b-443e-b105-1e9f244524c2",
   "metadata": {},
   "outputs": [
    {
     "data": {
      "text/html": [
       "<div>\n",
       "<style scoped>\n",
       "    .dataframe tbody tr th:only-of-type {\n",
       "        vertical-align: middle;\n",
       "    }\n",
       "\n",
       "    .dataframe tbody tr th {\n",
       "        vertical-align: top;\n",
       "    }\n",
       "\n",
       "    .dataframe thead th {\n",
       "        text-align: right;\n",
       "    }\n",
       "</style>\n",
       "<table border=\"1\" class=\"dataframe\">\n",
       "  <thead>\n",
       "    <tr style=\"text-align: right;\">\n",
       "      <th></th>\n",
       "      <th>A</th>\n",
       "      <th>B</th>\n",
       "      <th>C</th>\n",
       "    </tr>\n",
       "    <tr>\n",
       "      <th>label</th>\n",
       "      <th></th>\n",
       "      <th></th>\n",
       "      <th></th>\n",
       "    </tr>\n",
       "  </thead>\n",
       "  <tbody>\n",
       "    <tr>\n",
       "      <th>c3</th>\n",
       "      <td>0.499957</td>\n",
       "      <td>0.500055</td>\n",
       "      <td>0.499867</td>\n",
       "    </tr>\n",
       "    <tr>\n",
       "      <th>c5</th>\n",
       "      <td>0.899999</td>\n",
       "      <td>0.499828</td>\n",
       "      <td>0.500103</td>\n",
       "    </tr>\n",
       "    <tr>\n",
       "      <th>c1</th>\n",
       "      <td>0.099957</td>\n",
       "      <td>0.499932</td>\n",
       "      <td>0.500068</td>\n",
       "    </tr>\n",
       "    <tr>\n",
       "      <th>c2</th>\n",
       "      <td>0.299946</td>\n",
       "      <td>0.500151</td>\n",
       "      <td>0.499933</td>\n",
       "    </tr>\n",
       "    <tr>\n",
       "      <th>c4</th>\n",
       "      <td>0.700043</td>\n",
       "      <td>0.499943</td>\n",
       "      <td>0.500076</td>\n",
       "    </tr>\n",
       "  </tbody>\n",
       "</table>\n",
       "</div>"
      ],
      "text/plain": [
       "              A         B         C\n",
       "label                              \n",
       "c3     0.499957  0.500055  0.499867\n",
       "c5     0.899999  0.499828  0.500103\n",
       "c1     0.099957  0.499932  0.500068\n",
       "c2     0.299946  0.500151  0.499933\n",
       "c4     0.700043  0.499943  0.500076"
      ]
     },
     "execution_count": 53,
     "metadata": {},
     "output_type": "execute_result"
    }
   ],
   "source": [
    "cf[['label', 'A', 'B', 'C']].groupby('label').mean()"
   ]
  },
  {
   "cell_type": "code",
   "execution_count": 46,
   "id": "c86eb767",
   "metadata": {
    "scrolled": true
   },
   "outputs": [
    {
     "name": "stdout",
     "output_type": "stream",
     "text": [
      "225 ms ± 3.97 ms per loop (mean ± std. dev. of 7 runs, 1 loop each)\n"
     ]
    }
   ],
   "source": [
    "%timeit pandas.pivot_table(df, index='label', values=['A', 'B', 'C'], aggfunc=np.mean)"
   ]
  },
  {
   "cell_type": "code",
   "execution_count": 52,
   "id": "bdef03d0-13ae-442b-bd11-269b415ae6a2",
   "metadata": {},
   "outputs": [
    {
     "name": "stdout",
     "output_type": "stream",
     "text": [
      "The slowest run took 4.11 times longer than the fastest. This could mean that an intermediate result is being cached.\n",
      "99.6 ms ± 66.8 ms per loop (mean ± std. dev. of 7 runs, 1 loop each)\n"
     ]
    }
   ],
   "source": [
    "%timeit cf[['label', 'A', 'B', 'C']].groupby('label').mean()v"
   ]
  }
 ],
 "metadata": {
  "kernelspec": {
   "display_name": "Python 3 (ipykernel)",
   "language": "python",
   "name": "python3"
  },
  "language_info": {
   "codemirror_mode": {
    "name": "ipython",
    "version": 3
   },
   "file_extension": ".py",
   "mimetype": "text/x-python",
   "name": "python",
   "nbconvert_exporter": "python",
   "pygments_lexer": "ipython3",
   "version": "3.10.13"
  }
 },
 "nbformat": 4,
 "nbformat_minor": 5
}
