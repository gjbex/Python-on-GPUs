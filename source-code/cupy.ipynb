{
 "cells": [
  {
   "cell_type": "markdown",
   "id": "fc532d4b-d164-4aaf-b70b-ae1f0b9d30a3",
   "metadata": {},
   "source": [
    "## Requirements"
   ]
  },
  {
   "cell_type": "code",
   "execution_count": 15,
   "id": "c5430b2b-a033-4d85-a76a-eb9c958eb66d",
   "metadata": {},
   "outputs": [],
   "source": [
    "import cupy as cp\n",
    "import numpy as np\n",
    "import scipy"
   ]
  },
  {
   "cell_type": "markdown",
   "id": "7f0a018f-5bb9-4c47-a7d5-07941b175cd6",
   "metadata": {},
   "source": [
    "## Create data"
   ]
  },
  {
   "cell_type": "code",
   "execution_count": 2,
   "id": "ed36c851-e698-4c1d-9256-b57808feee78",
   "metadata": {},
   "outputs": [],
   "source": [
    "nr_rows, nr_cols = 2_000, 2_000"
   ]
  },
  {
   "cell_type": "code",
   "execution_count": 3,
   "id": "074bef9c-ad2e-46ae-8aa9-373fb1f1e8db",
   "metadata": {},
   "outputs": [],
   "source": [
    "A = np.random.uniform(size=(nr_rows, nr_cols))\n",
    "B = np.random.uniform(size=A.shape)"
   ]
  },
  {
   "cell_type": "markdown",
   "id": "c2627a05-de0f-476e-b055-1a82b01b9cf4",
   "metadata": {},
   "source": [
    "## Matrix-matrix multiplication"
   ]
  },
  {
   "cell_type": "code",
   "execution_count": 4,
   "id": "ef334f46-3e67-425a-b4b2-8d269aaa8ba8",
   "metadata": {},
   "outputs": [
    {
     "name": "stdout",
     "output_type": "stream",
     "text": [
      "CPU times: user 975 ms, sys: 1.03 s, total: 2.01 s\n",
      "Wall time: 127 ms\n"
     ]
    }
   ],
   "source": [
    "%%time\n",
    "C = A@B"
   ]
  },
  {
   "cell_type": "code",
   "execution_count": 5,
   "id": "9cd7c352-e8d6-4066-8aeb-1f9c05f137e4",
   "metadata": {},
   "outputs": [
    {
     "name": "stdout",
     "output_type": "stream",
     "text": [
      "CPU times: user 427 ms, sys: 2.04 s, total: 2.47 s\n",
      "Wall time: 1.26 s\n"
     ]
    }
   ],
   "source": [
    "%%time\n",
    "A_dev = cp.array(A, copy=True)\n",
    "B_dev = cp.array(B, copy=True)"
   ]
  },
  {
   "cell_type": "markdown",
   "id": "daae2ec0-4532-489e-b23f-0a683153f590",
   "metadata": {},
   "source": [
    "Although copying is requested, that doesn't seem to happen."
   ]
  },
  {
   "cell_type": "code",
   "execution_count": 6,
   "id": "63fab20c-3a22-46fe-9069-ae016d63ae28",
   "metadata": {},
   "outputs": [
    {
     "name": "stdout",
     "output_type": "stream",
     "text": [
      "CPU times: user 964 ms, sys: 2.58 s, total: 3.55 s\n",
      "Wall time: 3.67 s\n"
     ]
    }
   ],
   "source": [
    "%%time\n",
    "C_dev = A_dev@B_dev"
   ]
  },
  {
   "cell_type": "code",
   "execution_count": 7,
   "id": "ade24d9f-da31-4d98-a029-d7504addfc37",
   "metadata": {},
   "outputs": [
    {
     "name": "stdout",
     "output_type": "stream",
     "text": [
      "CPU times: user 2.44 ms, sys: 37 µs, total: 2.48 ms\n",
      "Wall time: 2.05 ms\n"
     ]
    }
   ],
   "source": [
    "%%time\n",
    "C_dev = A_dev@B_dev"
   ]
  },
  {
   "cell_type": "markdown",
   "id": "cdd42d52-58f6-4714-b804-a3aaac324df0",
   "metadata": {},
   "source": [
    "If possible, it helps to create the data on the GPU directive."
   ]
  },
  {
   "cell_type": "code",
   "execution_count": 8,
   "id": "4ac0edcb-2a7a-4f5f-85a2-e5bbf09478d6",
   "metadata": {},
   "outputs": [
    {
     "name": "stdout",
     "output_type": "stream",
     "text": [
      "CPU times: user 360 ms, sys: 15 ms, total: 375 ms\n",
      "Wall time: 378 ms\n"
     ]
    }
   ],
   "source": [
    "%%time\n",
    "X_dev = cp.random.uniform(0.0, 1.0, size=(nr_rows, nr_cols))\n",
    "Y_dev = cp.random.uniform(0.0, 1.0, size=(nr_rows, nr_cols))"
   ]
  },
  {
   "cell_type": "code",
   "execution_count": 9,
   "id": "f91ab450-6990-4117-9f5e-564600f35c9a",
   "metadata": {},
   "outputs": [
    {
     "name": "stdout",
     "output_type": "stream",
     "text": [
      "CPU times: user 432 µs, sys: 1.49 ms, total: 1.92 ms\n",
      "Wall time: 1.08 ms\n"
     ]
    }
   ],
   "source": [
    "%%time\n",
    "Z_dev = X_dev@Y_dev"
   ]
  },
  {
   "cell_type": "markdown",
   "id": "fff63e52-7f55-4074-9690-5ebaf75d5a5e",
   "metadata": {},
   "source": [
    "## Matrix power"
   ]
  },
  {
   "cell_type": "code",
   "execution_count": 10,
   "id": "d13ef081-3cad-48ba-a789-8fa951b5ac09",
   "metadata": {},
   "outputs": [],
   "source": [
    "D = np.random.uniform(size=(1_000, 1_000))"
   ]
  },
  {
   "cell_type": "code",
   "execution_count": 11,
   "id": "ce65be0a-18fd-4d29-a933-08cd61266a62",
   "metadata": {},
   "outputs": [
    {
     "name": "stdout",
     "output_type": "stream",
     "text": [
      "30.3 ms ± 5.26 ms per loop (mean ± std. dev. of 7 runs, 10 loops each)\n"
     ]
    }
   ],
   "source": [
    "%timeit np.linalg.matrix_power(D, 10)"
   ]
  },
  {
   "cell_type": "code",
   "execution_count": 21,
   "id": "2cca5817-c795-4240-8a56-6361aade49cf",
   "metadata": {},
   "outputs": [],
   "source": [
    "D_dev = cp.random.uniform(0.0, 1.0, size=(1_000, 1_000))"
   ]
  },
  {
   "cell_type": "code",
   "execution_count": 13,
   "id": "e09dab4d-7a43-4cce-b0cd-0bb82c6f49c1",
   "metadata": {},
   "outputs": [
    {
     "name": "stdout",
     "output_type": "stream",
     "text": [
      "43.7 ms ± 2.55 µs per loop (mean ± std. dev. of 7 runs, 1,000 loops each)\n"
     ]
    }
   ],
   "source": [
    "%timeit cp.linalg.matrix_power(D_dev, 10)"
   ]
  },
  {
   "cell_type": "markdown",
   "id": "87ee8654-ca5d-456c-a19c-d46842f15adf",
   "metadata": {},
   "source": [
    "## Singular Value Decomposition (SVD)"
   ]
  },
  {
   "cell_type": "code",
   "execution_count": 16,
   "id": "dbae0849-7d44-4d8e-8a2a-104d08e63016",
   "metadata": {},
   "outputs": [
    {
     "name": "stdout",
     "output_type": "stream",
     "text": [
      "261 ms ± 81.5 ms per loop (mean ± std. dev. of 7 runs, 1 loop each)\n"
     ]
    }
   ],
   "source": [
    "%%timeit\n",
    "t = scipy.linalg.svd(D)"
   ]
  },
  {
   "cell_type": "code",
   "execution_count": 22,
   "id": "33e09563-e5a0-47ca-b860-7b0581d7a11d",
   "metadata": {},
   "outputs": [
    {
     "name": "stdout",
     "output_type": "stream",
     "text": [
      "728 ms ± 16.7 ms per loop (mean ± std. dev. of 7 runs, 1 loop each)\n"
     ]
    }
   ],
   "source": [
    "%%timeit\n",
    "t_dev = cp.linalg.svd(D_dev)"
   ]
  },
  {
   "cell_type": "code",
   "execution_count": 17,
   "id": "2552a033-b7b0-423f-a162-ad559d696821",
   "metadata": {},
   "outputs": [
    {
     "name": "stdout",
     "output_type": "stream",
     "text": [
      "49.8 ms ± 4.96 ms per loop (mean ± std. dev. of 7 runs, 10 loops each)\n"
     ]
    }
   ],
   "source": [
    "%%timeit\n",
    "t = scipy.linalg.qr(D)"
   ]
  },
  {
   "cell_type": "code",
   "execution_count": 23,
   "id": "b74986ef-b699-40db-ae50-c759b5c5a9f7",
   "metadata": {},
   "outputs": [
    {
     "name": "stdout",
     "output_type": "stream",
     "text": [
      "34 ms ± 36.5 µs per loop (mean ± std. dev. of 7 runs, 10 loops each)\n"
     ]
    }
   ],
   "source": [
    "%%timeit\n",
    "t_dev = cp.linalg.qr(D_dev)"
   ]
  }
 ],
 "metadata": {
  "kernelspec": {
   "display_name": "Python 3 (ipykernel)",
   "language": "python",
   "name": "python3"
  },
  "language_info": {
   "codemirror_mode": {
    "name": "ipython",
    "version": 3
   },
   "file_extension": ".py",
   "mimetype": "text/x-python",
   "name": "python",
   "nbconvert_exporter": "python",
   "pygments_lexer": "ipython3",
   "version": "3.11.6"
  }
 },
 "nbformat": 4,
 "nbformat_minor": 5
}
