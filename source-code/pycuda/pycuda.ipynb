{
 "cells": [
  {
   "cell_type": "markdown",
   "id": "83db77cb-2d75-4dfb-9d88-851ffb5dab50",
   "metadata": {},
   "source": [
    "# Initialization"
   ]
  },
  {
   "cell_type": "markdown",
   "id": "de64ca93-6e9f-42d4-a1bf-a880b743547c",
   "metadata": {},
   "source": [
    "The GPU can be initialized automatically by importing the `autoinit` module."
   ]
  },
  {
   "cell_type": "code",
   "execution_count": 1,
   "id": "3fc936dd-3a11-4431-b95b-53f04e7b3d90",
   "metadata": {},
   "outputs": [],
   "source": [
    "import pycuda.autoinit\n",
    "import pycuda.driver as drv"
   ]
  },
  {
   "cell_type": "markdown",
   "id": "5cdd6768-229b-45b3-a80e-f1e60ebece85",
   "metadata": {},
   "source": [
    "# GPU attributes"
   ]
  },
  {
   "cell_type": "markdown",
   "id": "907590ee-09a2-451e-bc08-b5eaeb8a92ff",
   "metadata": {},
   "source": [
    "We can easily determine the number of GPU devices in the compute node, and query the properties of each."
   ]
  },
  {
   "cell_type": "code",
   "execution_count": 2,
   "id": "0cbfff81-f898-49a8-931a-937cf9e3191c",
   "metadata": {},
   "outputs": [
    {
     "name": "stdout",
     "output_type": "stream",
     "text": [
      "device NVIDIA GeForce RTX 2060 SUPER\n",
      "  device capability: 7.5\n",
      "  ASYNC_ENGINE_COUNT: 2\n",
      "  CAN_MAP_HOST_MEMORY: 1\n",
      "  CLOCK_RATE: 1650000\n",
      "  COMPUTE_CAPABILITY_MAJOR: 7\n",
      "  COMPUTE_CAPABILITY_MINOR: 5\n",
      "  COMPUTE_MODE: DEFAULT\n",
      "  CONCURRENT_KERNELS: 1\n",
      "  ECC_ENABLED: 0\n",
      "  GLOBAL_L1_CACHE_SUPPORTED: 1\n",
      "  GLOBAL_MEMORY_BUS_WIDTH: 256\n",
      "  GPU_OVERLAP: 1\n",
      "  INTEGRATED: 0\n",
      "  KERNEL_EXEC_TIMEOUT: 1\n",
      "  L2_CACHE_SIZE: 4194304\n",
      "  LOCAL_L1_CACHE_SUPPORTED: 1\n",
      "  MANAGED_MEMORY: 1\n",
      "  MAXIMUM_SURFACE1D_LAYERED_LAYERS: 2048\n",
      "  MAXIMUM_SURFACE1D_LAYERED_WIDTH: 32768\n",
      "  MAXIMUM_SURFACE1D_WIDTH: 32768\n",
      "  MAXIMUM_SURFACE2D_HEIGHT: 65536\n",
      "  MAXIMUM_SURFACE2D_LAYERED_HEIGHT: 32768\n",
      "  MAXIMUM_SURFACE2D_LAYERED_LAYERS: 2048\n",
      "  MAXIMUM_SURFACE2D_LAYERED_WIDTH: 32768\n",
      "  MAXIMUM_SURFACE2D_WIDTH: 131072\n",
      "  MAXIMUM_SURFACE3D_DEPTH: 16384\n",
      "  MAXIMUM_SURFACE3D_HEIGHT: 16384\n",
      "  MAXIMUM_SURFACE3D_WIDTH: 16384\n",
      "  MAXIMUM_SURFACECUBEMAP_LAYERED_LAYERS: 2046\n",
      "  MAXIMUM_SURFACECUBEMAP_LAYERED_WIDTH: 32768\n",
      "  MAXIMUM_SURFACECUBEMAP_WIDTH: 32768\n",
      "  MAXIMUM_TEXTURE1D_LAYERED_LAYERS: 2048\n",
      "  MAXIMUM_TEXTURE1D_LAYERED_WIDTH: 32768\n",
      "  MAXIMUM_TEXTURE1D_LINEAR_WIDTH: 268435456\n",
      "  MAXIMUM_TEXTURE1D_MIPMAPPED_WIDTH: 32768\n",
      "  MAXIMUM_TEXTURE1D_WIDTH: 131072\n",
      "  MAXIMUM_TEXTURE2D_ARRAY_HEIGHT: 32768\n",
      "  MAXIMUM_TEXTURE2D_ARRAY_NUMSLICES: 2048\n",
      "  MAXIMUM_TEXTURE2D_ARRAY_WIDTH: 32768\n",
      "  MAXIMUM_TEXTURE2D_GATHER_HEIGHT: 32768\n",
      "  MAXIMUM_TEXTURE2D_GATHER_WIDTH: 32768\n",
      "  MAXIMUM_TEXTURE2D_HEIGHT: 65536\n",
      "  MAXIMUM_TEXTURE2D_LINEAR_HEIGHT: 65000\n",
      "  MAXIMUM_TEXTURE2D_LINEAR_PITCH: 2097120\n",
      "  MAXIMUM_TEXTURE2D_LINEAR_WIDTH: 131072\n",
      "  MAXIMUM_TEXTURE2D_MIPMAPPED_HEIGHT: 32768\n",
      "  MAXIMUM_TEXTURE2D_MIPMAPPED_WIDTH: 32768\n",
      "  MAXIMUM_TEXTURE2D_WIDTH: 131072\n",
      "  MAXIMUM_TEXTURE3D_DEPTH: 16384\n",
      "  MAXIMUM_TEXTURE3D_DEPTH_ALTERNATE: 32768\n",
      "  MAXIMUM_TEXTURE3D_HEIGHT: 16384\n",
      "  MAXIMUM_TEXTURE3D_HEIGHT_ALTERNATE: 8192\n",
      "  MAXIMUM_TEXTURE3D_WIDTH: 16384\n",
      "  MAXIMUM_TEXTURE3D_WIDTH_ALTERNATE: 8192\n",
      "  MAXIMUM_TEXTURECUBEMAP_LAYERED_LAYERS: 2046\n",
      "  MAXIMUM_TEXTURECUBEMAP_LAYERED_WIDTH: 32768\n",
      "  MAXIMUM_TEXTURECUBEMAP_WIDTH: 32768\n",
      "  MAX_BLOCK_DIM_X: 1024\n",
      "  MAX_BLOCK_DIM_Y: 1024\n",
      "  MAX_BLOCK_DIM_Z: 64\n",
      "  MAX_GRID_DIM_X: 2147483647\n",
      "  MAX_GRID_DIM_Y: 65535\n",
      "  MAX_GRID_DIM_Z: 65535\n",
      "  MAX_PITCH: 2147483647\n",
      "  MAX_REGISTERS_PER_BLOCK: 65536\n",
      "  MAX_REGISTERS_PER_MULTIPROCESSOR: 65536\n",
      "  MAX_SHARED_MEMORY_PER_BLOCK: 49152\n",
      "  MAX_SHARED_MEMORY_PER_MULTIPROCESSOR: 65536\n",
      "  MAX_THREADS_PER_BLOCK: 1024\n",
      "  MAX_THREADS_PER_MULTIPROCESSOR: 1024\n",
      "  MEMORY_CLOCK_RATE: 7001000\n",
      "  MULTIPROCESSOR_COUNT: 34\n",
      "  MULTI_GPU_BOARD: 0\n",
      "  MULTI_GPU_BOARD_GROUP_ID: 0\n",
      "  PCI_BUS_ID: 11\n",
      "  PCI_DEVICE_ID: 0\n",
      "  PCI_DOMAIN_ID: 0\n",
      "  STREAM_PRIORITIES_SUPPORTED: 1\n",
      "  SURFACE_ALIGNMENT: 512\n",
      "  TCC_DRIVER: 0\n",
      "  TEXTURE_ALIGNMENT: 512\n",
      "  TEXTURE_PITCH_ALIGNMENT: 32\n",
      "  TOTAL_CONSTANT_MEMORY: 65536\n",
      "  UNIFIED_ADDRESSING: 1\n",
      "  WARP_SIZE: 32\n"
     ]
    }
   ],
   "source": [
    "for i in range(drv.Device.count()):\n",
    "    device = drv.Device(i)\n",
    "    print(f'device {device.name()}')\n",
    "    print('  device capability: {0}.{1}'.format(*device.compute_capability()))\n",
    "    for key, value in device.get_attributes().items():\n",
    "        print(f'  {key}: {value}')"
   ]
  },
  {
   "cell_type": "markdown",
   "id": "48f6cc7c-17a6-4b0f-b108-3ee1413b088b",
   "metadata": {},
   "source": [
    "# GPU arrays"
   ]
  },
  {
   "cell_type": "markdown",
   "id": "55274abc-9782-4938-9ec2-a728da39400d",
   "metadata": {},
   "source": [
    "Working with arrays on a GPU is fairly straightforward."
   ]
  },
  {
   "cell_type": "code",
   "execution_count": 2,
   "id": "0b719911-6b0b-4828-92c8-530cbdfb3ae6",
   "metadata": {},
   "outputs": [],
   "source": [
    "import numpy as np\n",
    "from pycuda import gpuarray"
   ]
  },
  {
   "cell_type": "markdown",
   "id": "48e568c8-d5b0-4f82-9023-9385ba33298a",
   "metadata": {},
   "source": [
    "Create a large array on the nost device.  This is simply a numpy array."
   ]
  },
  {
   "cell_type": "code",
   "execution_count": 4,
   "id": "f9b770e3-fe55-4577-9119-11671b6ec4d9",
   "metadata": {},
   "outputs": [],
   "source": [
    "host_data = np.float32(np.random.uniform(size=(50_000_000, )))"
   ]
  },
  {
   "cell_type": "markdown",
   "id": "c26b65eb-df63-4cf1-accf-08e70517cf2d",
   "metadata": {},
   "source": [
    "Time how long it takes to multiply each element by 2."
   ]
  },
  {
   "cell_type": "code",
   "execution_count": 5,
   "id": "2abb9566-a948-4af4-aefc-631f350eba99",
   "metadata": {},
   "outputs": [
    {
     "name": "stdout",
     "output_type": "stream",
     "text": [
      "29 ms ± 3.42 ms per loop (mean ± std. dev. of 7 runs, 10 loops each)\n"
     ]
    }
   ],
   "source": [
    "%timeit np.float32(2.0)*host_data"
   ]
  },
  {
   "cell_type": "code",
   "execution_count": 6,
   "id": "f79a0fd4-b3a1-4667-9f4f-7b51ac037194",
   "metadata": {},
   "outputs": [],
   "source": [
    "host_data_2 = np.float32(2.0)*host_data"
   ]
  },
  {
   "cell_type": "markdown",
   "id": "b3774496-a638-4f10-90d8-c4a9903af973",
   "metadata": {},
   "source": [
    "Create a device array, this is a GPU array initialized with the data of the host array."
   ]
  },
  {
   "cell_type": "code",
   "execution_count": 7,
   "id": "b438962d-9128-4988-927b-49fbd8db3b10",
   "metadata": {},
   "outputs": [],
   "source": [
    "device_data = gpuarray.to_gpu(host_data)"
   ]
  },
  {
   "cell_type": "markdown",
   "id": "278028de-77d0-4abb-a617-03f8266a851f",
   "metadata": {},
   "source": [
    "Time how long it takes to multiply the device array by 2 on the GPU."
   ]
  },
  {
   "cell_type": "code",
   "execution_count": 8,
   "id": "b27ba243-591a-4810-b34d-f510c9d5bd01",
   "metadata": {},
   "outputs": [
    {
     "name": "stdout",
     "output_type": "stream",
     "text": [
      "11.5 ms ± 29.8 µs per loop (mean ± std. dev. of 7 runs, 100 loops each)\n"
     ]
    }
   ],
   "source": [
    "%timeit np.float32(2.0)*device_data"
   ]
  },
  {
   "cell_type": "markdown",
   "id": "b3b1aee9-23ce-4f85-8062-18ff16bcc625",
   "metadata": {},
   "source": [
    "Note that the computation on the GPU is approximately twice as fast."
   ]
  },
  {
   "cell_type": "code",
   "execution_count": 9,
   "id": "b12c8ede-1493-46c9-b3e0-8da2d4fb0e78",
   "metadata": {},
   "outputs": [],
   "source": [
    "device_data_2 = np.float32(2.0)*device_data"
   ]
  },
  {
   "cell_type": "markdown",
   "id": "ef056b3f-7bae-432d-ba1e-c05008745c42",
   "metadata": {},
   "source": [
    "Copy the device data to the host memory into a new numpy array."
   ]
  },
  {
   "cell_type": "code",
   "execution_count": 10,
   "id": "1ce7e20a-1d6b-4213-924b-5fff2b996f61",
   "metadata": {},
   "outputs": [],
   "source": [
    "from_device_data = device_data_2.get()"
   ]
  },
  {
   "cell_type": "markdown",
   "id": "e0d5b7b2-b2f9-4fba-83a9-fb2307e69398",
   "metadata": {},
   "source": [
    "Check whether the computation on the host and the device yielded the same results."
   ]
  },
  {
   "cell_type": "code",
   "execution_count": 11,
   "id": "c3fd59f7-024a-493c-a691-07a8d0e7113e",
   "metadata": {},
   "outputs": [
    {
     "data": {
      "text/plain": [
       "True"
      ]
     },
     "execution_count": 11,
     "metadata": {},
     "output_type": "execute_result"
    }
   ],
   "source": [
    "all(host_data_2 == from_device_data)"
   ]
  },
  {
   "cell_type": "markdown",
   "id": "189e62c4-7c24-4ad7-bc5f-9818a9e44952",
   "metadata": {},
   "source": [
    "# Kernels"
   ]
  },
  {
   "cell_type": "markdown",
   "id": "07adbeac-dd18-4cb7-993c-63c722c71720",
   "metadata": {},
   "source": [
    "A kernel is a function that will be executed on the device. PyCUDA support a number of different kernels, each with its own characteristics."
   ]
  },
  {
   "cell_type": "markdown",
   "id": "37ffe392-f7f8-4629-87f7-be8e47818e52",
   "metadata": {
    "tags": []
   },
   "source": [
    "## Elementwise kernels"
   ]
  },
  {
   "cell_type": "code",
   "execution_count": 12,
   "id": "9c9579bf-7b4c-4fc8-9f33-dc3407812993",
   "metadata": {},
   "outputs": [],
   "source": [
    "from pycuda.elementwise import ElementwiseKernel"
   ]
  },
  {
   "cell_type": "markdown",
   "id": "eb83a92c-6f2f-426f-bf9d-461f5219ae3c",
   "metadata": {},
   "source": [
    "An elementwise kernel operates on each individual element of an array independently.  In the example below, each array element is multipliced by 2.\n",
    "A kernel definition requires three arguments:\n",
    "1. The signature of the function, so pointers to the input and output array.\n",
    "1. The body of the function (note the semi-colon), it can have multiple statements.\n",
    "1. The name of the kernel in the generated code."
   ]
  },
  {
   "cell_type": "markdown",
   "id": "0fa5b53d-ee14-418e-8f02-feb3c72a3749",
   "metadata": {},
   "source": [
    "### Simple example"
   ]
  },
  {
   "cell_type": "code",
   "execution_count": 13,
   "id": "a9ed6bf7-f5d7-4332-8b62-930587863036",
   "metadata": {},
   "outputs": [],
   "source": [
    "kernel_2x = ElementwiseKernel(\n",
    "    'float *in, float *out',\n",
    "    'out[i] = 2.0f*in[i];',\n",
    "    'kernel_2x'\n",
    ")"
   ]
  },
  {
   "cell_type": "markdown",
   "id": "fcad3511-0b66-4e2f-82fc-ed555ae217a9",
   "metadata": {},
   "source": [
    "Note that the array index `i` is declared by the code generator that creates the CUDA code for the kernel.  You should not declare it yourself."
   ]
  },
  {
   "cell_type": "markdown",
   "id": "b586fd87-b3e4-4339-9bff-6417f475c255",
   "metadata": {},
   "source": [
    "We create host data, and copy it to the device."
   ]
  },
  {
   "cell_type": "code",
   "execution_count": 14,
   "id": "71e572d1-cc40-4d52-aeb6-ece860785a06",
   "metadata": {},
   "outputs": [],
   "source": [
    "host_in_data = np.float32(np.random.uniform(size=(50_000_000, )))\n",
    "gpu_in_data = gpuarray.to_gpu(host_in_data)"
   ]
  },
  {
   "cell_type": "markdown",
   "id": "b36c6fd4-1c92-4092-9235-663985179bc9",
   "metadata": {},
   "source": [
    "We also have to create an array to store the results in, and this is done directly on the device."
   ]
  },
  {
   "cell_type": "code",
   "execution_count": 15,
   "id": "6bc3d6b8-d0ce-4fd0-891b-e619e9c9d4d4",
   "metadata": {},
   "outputs": [],
   "source": [
    "gpu_out_data = gpuarray.empty_like(gpu_in_data)"
   ]
  },
  {
   "cell_type": "markdown",
   "id": "dd0e98f1-6db4-4e16-b7aa-98cf520b1768",
   "metadata": {},
   "source": [
    "Now the kernel can be invoked simply by calling the function `kernel_2x`."
   ]
  },
  {
   "cell_type": "code",
   "execution_count": 16,
   "id": "7f094a07-7a3d-4686-8b49-4242e58a7c4f",
   "metadata": {},
   "outputs": [
    {
     "name": "stdout",
     "output_type": "stream",
     "text": [
      "1.27 ms ± 4.18 µs per loop (mean ± std. dev. of 7 runs, 10000 loops each)\n"
     ]
    }
   ],
   "source": [
    "%timeit kernel_2x(gpu_in_data, gpu_out_data)"
   ]
  },
  {
   "cell_type": "markdown",
   "id": "54b01609-7b90-43e7-8934-9f6eb64719db",
   "metadata": {},
   "source": [
    "Retrieve the result from the device."
   ]
  },
  {
   "cell_type": "code",
   "execution_count": 40,
   "id": "e3473fae-036b-4930-bc5a-0a23eb770b17",
   "metadata": {},
   "outputs": [],
   "source": [
    "host_out_data = gpu_out_data.get()"
   ]
  },
  {
   "cell_type": "markdown",
   "id": "081fc552-90f8-440f-ba20-25e89454d876",
   "metadata": {},
   "source": [
    "Note that using the `ElementwiseKernel` is significantly faster than performing the computation inline as in the previous section."
   ]
  },
  {
   "cell_type": "markdown",
   "id": "8fda2c6a-2fe2-4589-b14b-d057262afa6f",
   "metadata": {},
   "source": [
    "### Multiple arguments"
   ]
  },
  {
   "cell_type": "markdown",
   "id": "fb7a7773-194b-4974-9592-1f51d7c59712",
   "metadata": {},
   "source": [
    "Kernels can have arguments besides the input and output, as well as multiple input arrays, e.g.,"
   ]
  },
  {
   "cell_type": "code",
   "execution_count": 41,
   "id": "eb52e094-a2fb-485c-861b-76b2c8b80f00",
   "metadata": {},
   "outputs": [],
   "source": [
    "kernel_saxpy = ElementwiseKernel(\n",
    "    'float *x, float *y, float *r, float alpha',\n",
    "    'r[i] = alpha*x[i] + y[i];',\n",
    "    'kernel_saxpy'\n",
    ")"
   ]
  },
  {
   "cell_type": "markdown",
   "id": "e4403b02-c5ad-4257-b70f-038ba707a818",
   "metadata": {},
   "source": [
    "Create the host data."
   ]
  },
  {
   "cell_type": "code",
   "execution_count": 42,
   "id": "5caecd84-92c1-48d0-8e3b-fe073bb195a8",
   "metadata": {},
   "outputs": [],
   "source": [
    "x = np.float32(np.random.uniform(size=(50_000_000, )))\n",
    "y = np.float32(np.random.uniform(size=(50_000_000, )))\n",
    "alpha = np.float32(0.31)"
   ]
  },
  {
   "cell_type": "markdown",
   "id": "705e2dda-bb2c-44eb-afc5-4232f401fe75",
   "metadata": {},
   "source": [
    "Move the data to the device."
   ]
  },
  {
   "cell_type": "code",
   "execution_count": 43,
   "id": "4bea6c2c-1f19-4db5-8e7d-c1f81a35d976",
   "metadata": {},
   "outputs": [],
   "source": [
    "device_x = gpuarray.to_gpu(x)\n",
    "device_y = gpuarray.to_gpu(y)\n",
    "device_r = gpuarray.empty_like(device_x)"
   ]
  },
  {
   "cell_type": "markdown",
   "id": "ebcc0bc3-7afc-4c3f-aedf-98f79bcb1b72",
   "metadata": {},
   "source": [
    "Execute the kernel."
   ]
  },
  {
   "cell_type": "code",
   "execution_count": 44,
   "id": "541fe802-ada4-4d36-b8be-530dc10daa2b",
   "metadata": {},
   "outputs": [
    {
     "name": "stdout",
     "output_type": "stream",
     "text": [
      "CPU times: user 5.2 ms, sys: 16.4 ms, total: 21.6 ms\n",
      "Wall time: 80.9 ms\n"
     ]
    }
   ],
   "source": [
    "%%time\n",
    "kernel_saxpy(device_x, device_y, device_r, alpha)"
   ]
  },
  {
   "cell_type": "markdown",
   "id": "6758bf6c-6a8a-403c-9523-6297e29ff3d7",
   "metadata": {},
   "source": [
    "Compare to the host."
   ]
  },
  {
   "cell_type": "code",
   "execution_count": 45,
   "id": "a9e113a6-e690-46f8-b639-c44f914fb659",
   "metadata": {},
   "outputs": [
    {
     "name": "stdout",
     "output_type": "stream",
     "text": [
      "CPU times: user 39.2 ms, sys: 80.9 ms, total: 120 ms\n",
      "Wall time: 118 ms\n"
     ]
    }
   ],
   "source": [
    "%%time\n",
    "r = alpha*x + y"
   ]
  },
  {
   "cell_type": "code",
   "execution_count": 46,
   "id": "6d01990e-d453-4572-8244-400c7bce558a",
   "metadata": {},
   "outputs": [
    {
     "data": {
      "text/plain": [
       "1.1920929e-07"
      ]
     },
     "execution_count": 46,
     "metadata": {},
     "output_type": "execute_result"
    }
   ],
   "source": [
    "np.max(np.abs(r - device_r.get()))"
   ]
  },
  {
   "cell_type": "markdown",
   "id": "e561ca58-f7ba-4824-b8c7-1c6dba19c721",
   "metadata": {},
   "source": [
    "### Mandelbrot set"
   ]
  },
  {
   "cell_type": "code",
   "execution_count": 87,
   "id": "103c1141-48b7-47ba-9320-c0bc90f18e76",
   "metadata": {},
   "outputs": [],
   "source": [
    "import matplotlib.pyplot as plt\n",
    "%matplotlib inline"
   ]
  },
  {
   "cell_type": "code",
   "execution_count": 81,
   "id": "2b1a37a0-4007-4ed2-8699-991644d3ae28",
   "metadata": {},
   "outputs": [],
   "source": [
    "kernel_mandelbrot = ElementwiseKernel('pycuda::complex<float> *z, pycuda::complex<float> c, int *graph, int max_iters',\n",
    "                                      '''\n",
    "                                      graph[i] = 0;\n",
    "                                      while (graph[i] < max_iters && abs(z[i]) < 2.0) {\n",
    "                                          z[i] = z[i]*z[i] + c;\n",
    "                                          graph[i]++;\n",
    "                                      }\n",
    "                                      ''',\n",
    "                                      'kernel_mandelbrot')"
   ]
  },
  {
   "cell_type": "code",
   "execution_count": 82,
   "id": "029498d6-649c-4ab6-a559-66bc9fd6e1e7",
   "metadata": {},
   "outputs": [],
   "source": [
    "real = np.linspace(-1.8, 1.8, 4096, dtype=np.float32)\n",
    "imag = np.linspace(-1.8, 1.8, 4096, dtype=np.float32)\n",
    "Real, Imag = np.meshgrid(real, imag)\n",
    "Z = Real + np.complex64(1.0j)*Imag"
   ]
  },
  {
   "cell_type": "code",
   "execution_count": 83,
   "id": "f1d7d683-b6f2-4110-931f-da9cf53bdbca",
   "metadata": {},
   "outputs": [],
   "source": [
    "c = np.complex64(0.4 + 0.6j)"
   ]
  },
  {
   "cell_type": "code",
   "execution_count": 91,
   "id": "bcf9de65-a52b-40d1-9650-416cbf0c865d",
   "metadata": {},
   "outputs": [],
   "source": [
    "device_Z = gpuarray.to_gpu(Z.reshape((Z.size)))\n",
    "device_graph = gpuarray.empty((Z.size, ), dtype=np.int32)"
   ]
  },
  {
   "cell_type": "code",
   "execution_count": 92,
   "id": "894d6d31-276f-4109-952f-0d61ddb5946d",
   "metadata": {},
   "outputs": [],
   "source": [
    "kernel_mandelbrot(device_Z, c, device_graph, 255)"
   ]
  },
  {
   "cell_type": "code",
   "execution_count": 97,
   "id": "e0ea71d6-dc0f-4ac2-9faa-98e0c4b02c94",
   "metadata": {},
   "outputs": [
    {
     "data": {
      "image/png": "[encoded data removed]",
      "text/plain": [
       "<Figure size 1080x1080 with 1 Axes>"
      ]
     },
     "metadata": {
      "needs_background": "light"
     },
     "output_type": "display_data"
    }
   ],
   "source": [
    "figure, axes = plt.subplots(figsize=(15, 15))\n",
    "axes.set_aspect('equal')\n",
    "_ = axes.imshow(device_graph.get().reshape(Z.shape))"
   ]
  },
  {
   "cell_type": "markdown",
   "id": "e1dec483-8729-48a8-a65f-212eb923f1a0",
   "metadata": {},
   "source": [
    "## Reduction kernel"
   ]
  },
  {
   "cell_type": "markdown",
   "id": "492bc85f-3da2-45d8-b948-6be5a98446f6",
   "metadata": {},
   "source": [
    "Besides pointwise operations, reductions are also useful, and pyCUDA has a specific kernel for that."
   ]
  },
  {
   "cell_type": "code",
   "execution_count": 47,
   "id": "6aeeae60-1949-4931-9320-f1b68a40cc9d",
   "metadata": {},
   "outputs": [],
   "source": [
    "from pycuda.reduction import ReductionKernel"
   ]
  },
  {
   "cell_type": "markdown",
   "id": "692ac884-03d4-4b56-b1cf-840e95f02fb5",
   "metadata": {},
   "source": [
    "To construct a reduction kernel, we have to specify\n",
    "1. the type of the result,\n",
    "1. the neutral element of the reduction operator, e.g., 0 for a sum,\n",
    "1. the reduction expression, the operands are represented by `a` and `b` (C code),\n",
    "1. the map expression based on the arguments (C code),\n",
    "1. the argument string (C code),\n",
    "1. the name of the kernel, typically the same as the Python variable it is assigned to."
   ]
  },
  {
   "cell_type": "code",
   "execution_count": 49,
   "id": "a6451401-8885-4725-97d8-d6a6148bff94",
   "metadata": {},
   "outputs": [],
   "source": [
    "kernel_dot_product = ReductionKernel(np.float32, neutral=np.float32(0.0), reduce_expr='a + b',\n",
    "                                     map_expr='vec1[i]*vec2[i]', arguments='float *vec1, float *vec2',\n",
    "                                     name='kernel_dot_product')"
   ]
  },
  {
   "cell_type": "markdown",
   "id": "e839a358-efa7-4bcd-aef4-c65dc8078cb8",
   "metadata": {},
   "source": [
    "The kernel above will compute the dot product of two vectors.\n",
    "\n",
    "We define two vectors on the host, and transfer them to the device."
   ]
  },
  {
   "cell_type": "code",
   "execution_count": 50,
   "id": "9b1e0d55-7ffb-4d03-8676-79161cc3edd1",
   "metadata": {},
   "outputs": [],
   "source": [
    "v1 = np.float32(np.random.uniform(size=(1_000_000, )))\n",
    "v2 = np.float32(np.random.uniform(size=(1_000_000, )))"
   ]
  },
  {
   "cell_type": "code",
   "execution_count": 52,
   "id": "bb36ef5c-d1bb-4c27-844a-02aa89e9b31f",
   "metadata": {},
   "outputs": [],
   "source": [
    "device_v1 = gpuarray.to_gpu(v1)\n",
    "device_v2 = gpuarray.to_gpu(v2)"
   ]
  },
  {
   "cell_type": "markdown",
   "id": "59f34a8b-dc4c-427f-a4a5-3bcec164fe49",
   "metadata": {},
   "source": [
    "Now we can execute the kernel on the device."
   ]
  },
  {
   "cell_type": "code",
   "execution_count": 57,
   "id": "f54e0530-0f50-4063-bd87-2bc02c7ce433",
   "metadata": {},
   "outputs": [],
   "source": [
    "device_result = kernel_dot_product(device_v1, device_v2)"
   ]
  },
  {
   "cell_type": "code",
   "execution_count": 66,
   "id": "d0f5b334-8f5b-4853-abab-04797dcb07ca",
   "metadata": {},
   "outputs": [
    {
     "data": {
      "text/plain": [
       "array(250032.45, dtype=float32)"
      ]
     },
     "execution_count": 66,
     "metadata": {},
     "output_type": "execute_result"
    }
   ],
   "source": [
    "device_result.get()"
   ]
  },
  {
   "cell_type": "markdown",
   "id": "a482835a-f33c-4b54-8964-da498d76d50e",
   "metadata": {},
   "source": [
    "Note that the result is a 0-dimensional numpy array, which you can treat as if it were a scalar.\n",
    "\n",
    "The result is the same as the equivalant computation on the host."
   ]
  },
  {
   "cell_type": "code",
   "execution_count": 54,
   "id": "2850fcfe-0102-4cfd-b42c-6f8b4444cc49",
   "metadata": {},
   "outputs": [
    {
     "data": {
      "text/plain": [
       "250032.42"
      ]
     },
     "execution_count": 54,
     "metadata": {},
     "output_type": "execute_result"
    }
   ],
   "source": [
    "np.sum(v1*v2)"
   ]
  },
  {
   "cell_type": "markdown",
   "id": "b646d1d8-ab43-4b6d-b697-9c3d92942ca8",
   "metadata": {},
   "source": [
    "## Source module"
   ]
  },
  {
   "cell_type": "markdown",
   "id": "beda6ad9-ea9e-4b7a-a679-f315ba013599",
   "metadata": {},
   "source": [
    "The most general way to write CUDA code for pyCUDA is by writing source modules."
   ]
  },
  {
   "cell_type": "code",
   "execution_count": 3,
   "id": "791d7e66-dc7c-4f03-b37b-e135a655905d",
   "metadata": {},
   "outputs": [],
   "source": [
    "from pycuda.compiler import SourceModule"
   ]
  },
  {
   "cell_type": "markdown",
   "id": "981e5add-5da3-4f94-97fd-a47167bbbb99",
   "metadata": {},
   "source": [
    "The module below defines two device constants, `degree` and `a` which denote the degree and coefficients of a polynomial function that is defined by the device function `polynom`.  These constants and the function can only be used on the device. The kernel is `poly_kernel` and can, after being compiled, be retrieved from the source module and called from Python."
   ]
  },
  {
   "cell_type": "code",
   "execution_count": 4,
   "id": "46fe3f1c-8fb9-41f4-9d4e-934b5e485533",
   "metadata": {},
   "outputs": [],
   "source": [
    "source_code = '''\n",
    "    \n",
    "    __constant__ int degree = 2;\n",
    "    __constant__ float a[] = {1.0f, -2.0f, -0.5f};\n",
    "    \n",
    "    __device__ float polynom(float x) {\n",
    "        float result = 0.0f;\n",
    "        float factor = 1.0f;\n",
    "        for (int i = 0; i <= degree; ++i) {\n",
    "            result += a[i]*factor;\n",
    "            factor *= x;\n",
    "        }\n",
    "        return result;\n",
    "    }\n",
    "    \n",
    "    __global__ void poly_kernel(float *in, float *out, int part_size) {\n",
    "        int i = threadIdx.x;\n",
    "        int offset = part_size*i;\n",
    "        for (int j = 0; j < part_size; ++j) {\n",
    "            out[offset + j] = polynom(in[offset + j]);\n",
    "        }\n",
    "    }\n",
    "\n",
    "'''"
   ]
  },
  {
   "cell_type": "code",
   "execution_count": 5,
   "id": "8fd5cd49-ee42-47d2-97c8-2c68df8b0064",
   "metadata": {},
   "outputs": [],
   "source": [
    "poly_kernel = SourceModule(source_code).get_function('poly_kernel')"
   ]
  },
  {
   "cell_type": "markdown",
   "id": "4ed658e7-8fe8-4486-a4d0-cff03e1f4395",
   "metadata": {},
   "source": [
    "We set the block size and the number of array elements to be processed by each CUDA thread."
   ]
  },
  {
   "cell_type": "code",
   "execution_count": 6,
   "id": "42366ffc-7c0c-472d-a6a4-359a67e34f85",
   "metadata": {},
   "outputs": [],
   "source": [
    "block_size, part_size = 512, 1024"
   ]
  },
  {
   "cell_type": "markdown",
   "id": "56d4f315-33bc-4253-95e2-f5df3a469c0a",
   "metadata": {},
   "source": [
    "We create the host data, and create the required device arrays."
   ]
  },
  {
   "cell_type": "code",
   "execution_count": 8,
   "id": "19e9b78e-1ffc-440e-b3d2-366caabc373e",
   "metadata": {},
   "outputs": [],
   "source": [
    "v = np.float32(np.random.uniform(size=(block_size*part_size, )))\n",
    "device_v = gpuarray.to_gpu(v)\n",
    "device_p = gpuarray.empty_like(device_v)"
   ]
  },
  {
   "cell_type": "markdown",
   "id": "01d4f8f6-e196-4e0e-92c5-6a6e95edb08e",
   "metadata": {},
   "source": [
    "Now we can call the kernel, specifying both the block and the grid dimensions.  We use a single 1D block with 512 threads."
   ]
  },
  {
   "cell_type": "code",
   "execution_count": 9,
   "id": "10af0d3c-54f0-43cf-b8e4-e2c9b22a50f1",
   "metadata": {},
   "outputs": [],
   "source": [
    "poly_kernel(device_v, device_p, np.int32(part_size), block=(block_size, 1, 1), grid=(1, 1, 1))"
   ]
  },
  {
   "cell_type": "markdown",
   "id": "d266d2d9-a59d-4796-a0a9-7b5a635294ad",
   "metadata": {},
   "source": [
    "We can now retrieve the result from the device and check whether it is correct."
   ]
  },
  {
   "cell_type": "code",
   "execution_count": 10,
   "id": "1cbbe090-743f-4e3f-aa1c-142671beef6a",
   "metadata": {},
   "outputs": [],
   "source": [
    "p = device_p.get()"
   ]
  },
  {
   "cell_type": "code",
   "execution_count": 13,
   "id": "ddb36335-6966-4b7a-8b96-6a966d288ffe",
   "metadata": {},
   "outputs": [
    {
     "data": {
      "text/plain": [
       "True"
      ]
     },
     "execution_count": 13,
     "metadata": {},
     "output_type": "execute_result"
    }
   ],
   "source": [
    "np.allclose(p, 1.0 - 2.0*v - 0.5*v**2, atol=1.0e-6)"
   ]
  }
 ],
 "metadata": {
  "kernelspec": {
   "display_name": "Python 3 (ipykernel)",
   "language": "python",
   "name": "python3"
  },
  "language_info": {
   "codemirror_mode": {
    "name": "ipython",
    "version": 3
   },
   "file_extension": ".py",
   "mimetype": "text/x-python",
   "name": "python",
   "nbconvert_exporter": "python",
   "pygments_lexer": "ipython3",
   "version": "3.9.7"
  }
 },
 "nbformat": 4,
 "nbformat_minor": 5
}
